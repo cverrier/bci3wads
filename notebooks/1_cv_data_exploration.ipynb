{
 "cells": [
  {
   "cell_type": "code",
   "execution_count": 1,
   "id": "29fa9e19-436e-4f5f-86ee-b0afefb762e0",
   "metadata": {},
   "outputs": [
    {
     "data": {
      "text/plain": [
       "'/Users/clementverrier/Work/Repositories/bci3wads'"
      ]
     },
     "execution_count": 1,
     "metadata": {},
     "output_type": "execute_result"
    }
   ],
   "source": [
    "import os\n",
    "import sys\n",
    "import logging\n",
    "import pathlib\n",
    "\n",
    "%load_ext autoreload\n",
    "%autoreload 2\n",
    "\n",
    "logging.basicConfig(level=logging.INFO, stream=sys.stdout)\n",
    "\n",
    "os.chdir(pathlib.Path.cwd().parent)\n",
    "%pwd"
   ]
  },
  {
   "cell_type": "code",
   "execution_count": 2,
   "id": "48e54ab7-e6c0-42ed-a317-ce32c4a6e54a",
   "metadata": {},
   "outputs": [],
   "source": [
    "import numpy as np\n",
    "import scipy.io\n",
    "\n",
    "import matplotlib.pyplot as plt\n",
    "%matplotlib inline\n",
    "%config InlineBackend.figure_format = 'retina'"
   ]
  },
  {
   "cell_type": "code",
   "execution_count": 3,
   "id": "fcbc9596-4c2a-4cf3-b9fa-9ed1082d98f0",
   "metadata": {},
   "outputs": [],
   "source": [
    "# Load training set associated with subject A\n",
    "raw_data_path = pathlib.Path.cwd() / 'data' / 'raw' / 'Subject_A_Train.mat'\n",
    "raw_data = scipy.io.loadmat(raw_data_path)"
   ]
  },
  {
   "cell_type": "code",
   "execution_count": 4,
   "id": "928c6fe3-e337-4e0f-b642-ce291994e7cf",
   "metadata": {},
   "outputs": [
    {
     "data": {
      "text/plain": [
       "dict"
      ]
     },
     "execution_count": 4,
     "metadata": {},
     "output_type": "execute_result"
    }
   ],
   "source": [
    "type(raw_data)"
   ]
  },
  {
   "cell_type": "code",
   "execution_count": 5,
   "id": "d5014689-65fe-4a0d-b315-48db351a7394",
   "metadata": {},
   "outputs": [
    {
     "data": {
      "text/plain": [
       "dict_keys(['__header__', '__version__', '__globals__', 'Signal', 'TargetChar', 'Flashing', 'StimulusCode', 'StimulusType'])"
      ]
     },
     "execution_count": 5,
     "metadata": {},
     "output_type": "execute_result"
    }
   ],
   "source": [
    "raw_data.keys()"
   ]
  },
  {
   "cell_type": "code",
   "execution_count": 6,
   "id": "4e0a8e82-ba4b-49b4-b21a-850f4a58edaf",
   "metadata": {},
   "outputs": [
    {
     "name": "stdout",
     "output_type": "stream",
     "text": [
      "__header__ <class 'bytes'>\n",
      "__version__ <class 'str'>\n",
      "__globals__ <class 'list'>\n",
      "Signal <class 'numpy.ndarray'>\n",
      "TargetChar <class 'numpy.ndarray'>\n",
      "Flashing <class 'numpy.ndarray'>\n",
      "StimulusCode <class 'numpy.ndarray'>\n",
      "StimulusType <class 'numpy.ndarray'>\n"
     ]
    }
   ],
   "source": [
    "for k, v in raw_data.items():\n",
    "    print(k, type(v))"
   ]
  },
  {
   "cell_type": "code",
   "execution_count": 9,
   "id": "cda7c1b6-a880-4c11-a78f-d7d97a52ab6d",
   "metadata": {},
   "outputs": [
    {
     "name": "stdout",
     "output_type": "stream",
     "text": [
      "Signal (85, 7794, 64) float32\n",
      "TargetChar (1,) <U85\n",
      "Flashing (85, 7794) float32\n",
      "StimulusCode (85, 7794) float32\n",
      "StimulusType (85, 7794) float32\n"
     ]
    }
   ],
   "source": [
    "for k, v in raw_data.items():\n",
    "    if isinstance(v, np.ndarray):\n",
    "        print(k, v.shape, v.dtype)"
   ]
  },
  {
   "cell_type": "code",
   "execution_count": 10,
   "id": "ff1ebb07-bebc-4570-adb5-05dbb9172a49",
   "metadata": {},
   "outputs": [
    {
     "data": {
      "text/plain": [
       "array(['EAEVQTDOJG8RBRGONCEDHCTUIDBPUHMEM6OUXOCFOUKWA4VJEFRZROLHYNQDW_EKTLBWXEPOUIKZERYOOTHQI'],\n",
       "      dtype='<U85')"
      ]
     },
     "execution_count": 10,
     "metadata": {},
     "output_type": "execute_result"
    }
   ],
   "source": [
    "raw_data['TargetChar']"
   ]
  },
  {
   "cell_type": "markdown",
   "id": "40280094-c506-4b00-813d-6464331b08e0",
   "metadata": {},
   "source": [
    "## TODOS"
   ]
  },
  {
   "cell_type": "markdown",
   "id": "f5c1db6a-29ee-490c-9511-7ae9d6ec4b3a",
   "metadata": {},
   "source": [
    "* Convert `StimulusCode` and `Flashing` to int\n",
    "* Convert `StimulusType` to bool as it is a mask (see documentation)\n",
    "* Subtract 1 from `StimulusCode` since in Python, index starts at 0 instead of 1 (as in Matlab)\n",
    "* Convert `TargetChar` to a list where each element corresponds to a specific character"
   ]
  }
 ],
 "metadata": {
  "kernelspec": {
   "display_name": "Python 3 (ipykernel)",
   "language": "python",
   "name": "python3"
  },
  "language_info": {
   "codemirror_mode": {
    "name": "ipython",
    "version": 3
   },
   "file_extension": ".py",
   "mimetype": "text/x-python",
   "name": "python",
   "nbconvert_exporter": "python",
   "pygments_lexer": "ipython3",
   "version": "3.9.9"
  }
 },
 "nbformat": 4,
 "nbformat_minor": 5
}
